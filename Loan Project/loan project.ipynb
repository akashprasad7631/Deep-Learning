{
 "cells": [
  {
   "cell_type": "code",
   "execution_count": 1,
   "id": "e33d9c2d",
   "metadata": {},
   "outputs": [
    {
     "name": "stderr",
     "output_type": "stream",
     "text": [
      "Using TensorFlow backend.\n"
     ]
    }
   ],
   "source": [
    "#importing the libaries\n",
    "import keras\n",
    "from keras.models import Sequential\n",
    "from keras.layers import Dense, Dropout\n",
    "from keras.optimizers import RMSprop\n",
    "import pandas as pd\n",
    "import numpy as np\n",
    "from matplotlib import pyplot"
   ]
  },
  {
   "cell_type": "code",
   "execution_count": 2,
   "id": "438cd42c",
   "metadata": {},
   "outputs": [],
   "source": [
    "#loading the dataset\n",
    "data = pd.read_csv(\"/Users/users/Downloads/loan_data (1).csv\")"
   ]
  },
  {
   "cell_type": "code",
   "execution_count": 3,
   "id": "7c56036b",
   "metadata": {},
   "outputs": [
    {
     "data": {
      "text/html": [
       "<div>\n",
       "<style scoped>\n",
       "    .dataframe tbody tr th:only-of-type {\n",
       "        vertical-align: middle;\n",
       "    }\n",
       "\n",
       "    .dataframe tbody tr th {\n",
       "        vertical-align: top;\n",
       "    }\n",
       "\n",
       "    .dataframe thead th {\n",
       "        text-align: right;\n",
       "    }\n",
       "</style>\n",
       "<table border=\"1\" class=\"dataframe\">\n",
       "  <thead>\n",
       "    <tr style=\"text-align: right;\">\n",
       "      <th></th>\n",
       "      <th>SK_ID_CURR</th>\n",
       "      <th>TARGET</th>\n",
       "      <th>NAME_CONTRACT_TYPE</th>\n",
       "      <th>CODE_GENDER</th>\n",
       "      <th>FLAG_OWN_CAR</th>\n",
       "      <th>FLAG_OWN_REALTY</th>\n",
       "      <th>CNT_CHILDREN</th>\n",
       "      <th>AMT_INCOME_TOTAL</th>\n",
       "      <th>AMT_CREDIT</th>\n",
       "      <th>AMT_ANNUITY</th>\n",
       "      <th>...</th>\n",
       "      <th>FLAG_DOCUMENT_18</th>\n",
       "      <th>FLAG_DOCUMENT_19</th>\n",
       "      <th>FLAG_DOCUMENT_20</th>\n",
       "      <th>FLAG_DOCUMENT_21</th>\n",
       "      <th>AMT_REQ_CREDIT_BUREAU_HOUR</th>\n",
       "      <th>AMT_REQ_CREDIT_BUREAU_DAY</th>\n",
       "      <th>AMT_REQ_CREDIT_BUREAU_WEEK</th>\n",
       "      <th>AMT_REQ_CREDIT_BUREAU_MON</th>\n",
       "      <th>AMT_REQ_CREDIT_BUREAU_QRT</th>\n",
       "      <th>AMT_REQ_CREDIT_BUREAU_YEAR</th>\n",
       "    </tr>\n",
       "  </thead>\n",
       "  <tbody>\n",
       "    <tr>\n",
       "      <th>0</th>\n",
       "      <td>100002</td>\n",
       "      <td>1</td>\n",
       "      <td>Cash loans</td>\n",
       "      <td>M</td>\n",
       "      <td>N</td>\n",
       "      <td>Y</td>\n",
       "      <td>0</td>\n",
       "      <td>202500.0</td>\n",
       "      <td>406597.5</td>\n",
       "      <td>24700.5</td>\n",
       "      <td>...</td>\n",
       "      <td>0</td>\n",
       "      <td>0</td>\n",
       "      <td>0</td>\n",
       "      <td>0</td>\n",
       "      <td>0.0</td>\n",
       "      <td>0.0</td>\n",
       "      <td>0.0</td>\n",
       "      <td>0.0</td>\n",
       "      <td>0.0</td>\n",
       "      <td>1.0</td>\n",
       "    </tr>\n",
       "    <tr>\n",
       "      <th>1</th>\n",
       "      <td>100003</td>\n",
       "      <td>0</td>\n",
       "      <td>Cash loans</td>\n",
       "      <td>F</td>\n",
       "      <td>N</td>\n",
       "      <td>N</td>\n",
       "      <td>0</td>\n",
       "      <td>270000.0</td>\n",
       "      <td>1293502.5</td>\n",
       "      <td>35698.5</td>\n",
       "      <td>...</td>\n",
       "      <td>0</td>\n",
       "      <td>0</td>\n",
       "      <td>0</td>\n",
       "      <td>0</td>\n",
       "      <td>0.0</td>\n",
       "      <td>0.0</td>\n",
       "      <td>0.0</td>\n",
       "      <td>0.0</td>\n",
       "      <td>0.0</td>\n",
       "      <td>0.0</td>\n",
       "    </tr>\n",
       "    <tr>\n",
       "      <th>2</th>\n",
       "      <td>100004</td>\n",
       "      <td>0</td>\n",
       "      <td>Revolving loans</td>\n",
       "      <td>M</td>\n",
       "      <td>Y</td>\n",
       "      <td>Y</td>\n",
       "      <td>0</td>\n",
       "      <td>67500.0</td>\n",
       "      <td>135000.0</td>\n",
       "      <td>6750.0</td>\n",
       "      <td>...</td>\n",
       "      <td>0</td>\n",
       "      <td>0</td>\n",
       "      <td>0</td>\n",
       "      <td>0</td>\n",
       "      <td>0.0</td>\n",
       "      <td>0.0</td>\n",
       "      <td>0.0</td>\n",
       "      <td>0.0</td>\n",
       "      <td>0.0</td>\n",
       "      <td>0.0</td>\n",
       "    </tr>\n",
       "    <tr>\n",
       "      <th>3</th>\n",
       "      <td>100006</td>\n",
       "      <td>0</td>\n",
       "      <td>Cash loans</td>\n",
       "      <td>F</td>\n",
       "      <td>N</td>\n",
       "      <td>Y</td>\n",
       "      <td>0</td>\n",
       "      <td>135000.0</td>\n",
       "      <td>312682.5</td>\n",
       "      <td>29686.5</td>\n",
       "      <td>...</td>\n",
       "      <td>0</td>\n",
       "      <td>0</td>\n",
       "      <td>0</td>\n",
       "      <td>0</td>\n",
       "      <td>NaN</td>\n",
       "      <td>NaN</td>\n",
       "      <td>NaN</td>\n",
       "      <td>NaN</td>\n",
       "      <td>NaN</td>\n",
       "      <td>NaN</td>\n",
       "    </tr>\n",
       "    <tr>\n",
       "      <th>4</th>\n",
       "      <td>100007</td>\n",
       "      <td>0</td>\n",
       "      <td>Cash loans</td>\n",
       "      <td>M</td>\n",
       "      <td>N</td>\n",
       "      <td>Y</td>\n",
       "      <td>0</td>\n",
       "      <td>121500.0</td>\n",
       "      <td>513000.0</td>\n",
       "      <td>21865.5</td>\n",
       "      <td>...</td>\n",
       "      <td>0</td>\n",
       "      <td>0</td>\n",
       "      <td>0</td>\n",
       "      <td>0</td>\n",
       "      <td>0.0</td>\n",
       "      <td>0.0</td>\n",
       "      <td>0.0</td>\n",
       "      <td>0.0</td>\n",
       "      <td>0.0</td>\n",
       "      <td>0.0</td>\n",
       "    </tr>\n",
       "  </tbody>\n",
       "</table>\n",
       "<p>5 rows × 122 columns</p>\n",
       "</div>"
      ],
      "text/plain": [
       "   SK_ID_CURR  TARGET NAME_CONTRACT_TYPE CODE_GENDER FLAG_OWN_CAR  \\\n",
       "0      100002       1         Cash loans           M            N   \n",
       "1      100003       0         Cash loans           F            N   \n",
       "2      100004       0    Revolving loans           M            Y   \n",
       "3      100006       0         Cash loans           F            N   \n",
       "4      100007       0         Cash loans           M            N   \n",
       "\n",
       "  FLAG_OWN_REALTY  CNT_CHILDREN  AMT_INCOME_TOTAL  AMT_CREDIT  AMT_ANNUITY  \\\n",
       "0               Y             0          202500.0    406597.5      24700.5   \n",
       "1               N             0          270000.0   1293502.5      35698.5   \n",
       "2               Y             0           67500.0    135000.0       6750.0   \n",
       "3               Y             0          135000.0    312682.5      29686.5   \n",
       "4               Y             0          121500.0    513000.0      21865.5   \n",
       "\n",
       "   ...  FLAG_DOCUMENT_18 FLAG_DOCUMENT_19 FLAG_DOCUMENT_20 FLAG_DOCUMENT_21  \\\n",
       "0  ...                 0                0                0                0   \n",
       "1  ...                 0                0                0                0   \n",
       "2  ...                 0                0                0                0   \n",
       "3  ...                 0                0                0                0   \n",
       "4  ...                 0                0                0                0   \n",
       "\n",
       "  AMT_REQ_CREDIT_BUREAU_HOUR AMT_REQ_CREDIT_BUREAU_DAY  \\\n",
       "0                        0.0                       0.0   \n",
       "1                        0.0                       0.0   \n",
       "2                        0.0                       0.0   \n",
       "3                        NaN                       NaN   \n",
       "4                        0.0                       0.0   \n",
       "\n",
       "   AMT_REQ_CREDIT_BUREAU_WEEK  AMT_REQ_CREDIT_BUREAU_MON  \\\n",
       "0                         0.0                        0.0   \n",
       "1                         0.0                        0.0   \n",
       "2                         0.0                        0.0   \n",
       "3                         NaN                        NaN   \n",
       "4                         0.0                        0.0   \n",
       "\n",
       "   AMT_REQ_CREDIT_BUREAU_QRT  AMT_REQ_CREDIT_BUREAU_YEAR  \n",
       "0                        0.0                         1.0  \n",
       "1                        0.0                         0.0  \n",
       "2                        0.0                         0.0  \n",
       "3                        NaN                         NaN  \n",
       "4                        0.0                         0.0  \n",
       "\n",
       "[5 rows x 122 columns]"
      ]
     },
     "execution_count": 3,
     "metadata": {},
     "output_type": "execute_result"
    }
   ],
   "source": [
    "data.head()"
   ]
  },
  {
   "cell_type": "code",
   "execution_count": 4,
   "id": "2f7ba736",
   "metadata": {},
   "outputs": [
    {
     "name": "stdout",
     "output_type": "stream",
     "text": [
      "<class 'pandas.core.frame.DataFrame'>\n",
      "RangeIndex: 307511 entries, 0 to 307510\n",
      "Columns: 122 entries, SK_ID_CURR to AMT_REQ_CREDIT_BUREAU_YEAR\n",
      "dtypes: float64(65), int64(41), object(16)\n",
      "memory usage: 286.2+ MB\n"
     ]
    }
   ],
   "source": [
    "data.info()"
   ]
  },
  {
   "cell_type": "code",
   "execution_count": 5,
   "id": "147df871",
   "metadata": {},
   "outputs": [
    {
     "data": {
      "text/plain": [
       "(307511, 122)"
      ]
     },
     "execution_count": 5,
     "metadata": {},
     "output_type": "execute_result"
    }
   ],
   "source": [
    "#shape of dataset\n",
    "data.shape"
   ]
  },
  {
   "cell_type": "code",
   "execution_count": 6,
   "id": "681126f0",
   "metadata": {},
   "outputs": [
    {
     "name": "stdout",
     "output_type": "stream",
     "text": [
      "Index(['SK_ID_CURR', 'TARGET', 'NAME_CONTRACT_TYPE', 'CODE_GENDER',\n",
      "       'FLAG_OWN_CAR', 'FLAG_OWN_REALTY', 'CNT_CHILDREN', 'AMT_INCOME_TOTAL',\n",
      "       'AMT_CREDIT', 'AMT_ANNUITY',\n",
      "       ...\n",
      "       'FLAG_DOCUMENT_18', 'FLAG_DOCUMENT_19', 'FLAG_DOCUMENT_20',\n",
      "       'FLAG_DOCUMENT_21', 'AMT_REQ_CREDIT_BUREAU_HOUR',\n",
      "       'AMT_REQ_CREDIT_BUREAU_DAY', 'AMT_REQ_CREDIT_BUREAU_WEEK',\n",
      "       'AMT_REQ_CREDIT_BUREAU_MON', 'AMT_REQ_CREDIT_BUREAU_QRT',\n",
      "       'AMT_REQ_CREDIT_BUREAU_YEAR'],\n",
      "      dtype='object', length=122)\n"
     ]
    }
   ],
   "source": [
    "#columns of dataset\n",
    "cols = data.columns\n",
    "print(cols)"
   ]
  },
  {
   "cell_type": "code",
   "execution_count": 7,
   "id": "5ce1f00e",
   "metadata": {},
   "outputs": [
    {
     "data": {
      "text/plain": [
       "SK_ID_CURR                        0\n",
       "TARGET                            0\n",
       "NAME_CONTRACT_TYPE                0\n",
       "CODE_GENDER                       0\n",
       "FLAG_OWN_CAR                      0\n",
       "                              ...  \n",
       "AMT_REQ_CREDIT_BUREAU_DAY     41519\n",
       "AMT_REQ_CREDIT_BUREAU_WEEK    41519\n",
       "AMT_REQ_CREDIT_BUREAU_MON     41519\n",
       "AMT_REQ_CREDIT_BUREAU_QRT     41519\n",
       "AMT_REQ_CREDIT_BUREAU_YEAR    41519\n",
       "Length: 122, dtype: int64"
      ]
     },
     "execution_count": 7,
     "metadata": {},
     "output_type": "execute_result"
    }
   ],
   "source": [
    "#na values or null values in the dataset\n",
    "data.isnull().sum()"
   ]
  },
  {
   "cell_type": "code",
   "execution_count": 8,
   "id": "1e40d004",
   "metadata": {},
   "outputs": [],
   "source": [
    "#droping the columns with null values\n",
    "df = data.dropna(axis=1)"
   ]
  },
  {
   "cell_type": "code",
   "execution_count": 9,
   "id": "7ba0207a",
   "metadata": {},
   "outputs": [
    {
     "data": {
      "text/plain": [
       "(307511, 55)"
      ]
     },
     "execution_count": 9,
     "metadata": {},
     "output_type": "execute_result"
    }
   ],
   "source": [
    "df.shape"
   ]
  },
  {
   "cell_type": "code",
   "execution_count": 10,
   "id": "c34a29ca",
   "metadata": {},
   "outputs": [
    {
     "data": {
      "text/plain": [
       "Index(['SK_ID_CURR', 'TARGET', 'NAME_CONTRACT_TYPE', 'CODE_GENDER',\n",
       "       'FLAG_OWN_CAR', 'FLAG_OWN_REALTY', 'CNT_CHILDREN', 'AMT_INCOME_TOTAL',\n",
       "       'AMT_CREDIT', 'NAME_INCOME_TYPE', 'NAME_EDUCATION_TYPE',\n",
       "       'NAME_FAMILY_STATUS', 'NAME_HOUSING_TYPE', 'REGION_POPULATION_RELATIVE',\n",
       "       'DAYS_BIRTH', 'DAYS_EMPLOYED', 'DAYS_REGISTRATION', 'DAYS_ID_PUBLISH',\n",
       "       'FLAG_MOBIL', 'FLAG_EMP_PHONE', 'FLAG_WORK_PHONE', 'FLAG_CONT_MOBILE',\n",
       "       'FLAG_PHONE', 'FLAG_EMAIL', 'REGION_RATING_CLIENT',\n",
       "       'REGION_RATING_CLIENT_W_CITY', 'WEEKDAY_APPR_PROCESS_START',\n",
       "       'HOUR_APPR_PROCESS_START', 'REG_REGION_NOT_LIVE_REGION',\n",
       "       'REG_REGION_NOT_WORK_REGION', 'LIVE_REGION_NOT_WORK_REGION',\n",
       "       'REG_CITY_NOT_LIVE_CITY', 'REG_CITY_NOT_WORK_CITY',\n",
       "       'LIVE_CITY_NOT_WORK_CITY', 'ORGANIZATION_TYPE', 'FLAG_DOCUMENT_2',\n",
       "       'FLAG_DOCUMENT_3', 'FLAG_DOCUMENT_4', 'FLAG_DOCUMENT_5',\n",
       "       'FLAG_DOCUMENT_6', 'FLAG_DOCUMENT_7', 'FLAG_DOCUMENT_8',\n",
       "       'FLAG_DOCUMENT_9', 'FLAG_DOCUMENT_10', 'FLAG_DOCUMENT_11',\n",
       "       'FLAG_DOCUMENT_12', 'FLAG_DOCUMENT_13', 'FLAG_DOCUMENT_14',\n",
       "       'FLAG_DOCUMENT_15', 'FLAG_DOCUMENT_16', 'FLAG_DOCUMENT_17',\n",
       "       'FLAG_DOCUMENT_18', 'FLAG_DOCUMENT_19', 'FLAG_DOCUMENT_20',\n",
       "       'FLAG_DOCUMENT_21'],\n",
       "      dtype='object')"
      ]
     },
     "execution_count": 10,
     "metadata": {},
     "output_type": "execute_result"
    }
   ],
   "source": [
    "df.columns"
   ]
  },
  {
   "cell_type": "code",
   "execution_count": null,
   "id": "2bd2f06a",
   "metadata": {},
   "outputs": [],
   "source": []
  },
  {
   "cell_type": "code",
   "execution_count": 11,
   "id": "b7c30082",
   "metadata": {},
   "outputs": [
    {
     "name": "stdout",
     "output_type": "stream",
     "text": [
      "<class 'pandas.core.frame.DataFrame'>\n",
      "RangeIndex: 307511 entries, 0 to 307510\n",
      "Data columns (total 55 columns):\n",
      " #   Column                       Non-Null Count   Dtype  \n",
      "---  ------                       --------------   -----  \n",
      " 0   SK_ID_CURR                   307511 non-null  int64  \n",
      " 1   TARGET                       307511 non-null  int64  \n",
      " 2   NAME_CONTRACT_TYPE           307511 non-null  object \n",
      " 3   CODE_GENDER                  307511 non-null  object \n",
      " 4   FLAG_OWN_CAR                 307511 non-null  object \n",
      " 5   FLAG_OWN_REALTY              307511 non-null  object \n",
      " 6   CNT_CHILDREN                 307511 non-null  int64  \n",
      " 7   AMT_INCOME_TOTAL             307511 non-null  float64\n",
      " 8   AMT_CREDIT                   307511 non-null  float64\n",
      " 9   NAME_INCOME_TYPE             307511 non-null  object \n",
      " 10  NAME_EDUCATION_TYPE          307511 non-null  object \n",
      " 11  NAME_FAMILY_STATUS           307511 non-null  object \n",
      " 12  NAME_HOUSING_TYPE            307511 non-null  object \n",
      " 13  REGION_POPULATION_RELATIVE   307511 non-null  float64\n",
      " 14  DAYS_BIRTH                   307511 non-null  int64  \n",
      " 15  DAYS_EMPLOYED                307511 non-null  int64  \n",
      " 16  DAYS_REGISTRATION            307511 non-null  float64\n",
      " 17  DAYS_ID_PUBLISH              307511 non-null  int64  \n",
      " 18  FLAG_MOBIL                   307511 non-null  int64  \n",
      " 19  FLAG_EMP_PHONE               307511 non-null  int64  \n",
      " 20  FLAG_WORK_PHONE              307511 non-null  int64  \n",
      " 21  FLAG_CONT_MOBILE             307511 non-null  int64  \n",
      " 22  FLAG_PHONE                   307511 non-null  int64  \n",
      " 23  FLAG_EMAIL                   307511 non-null  int64  \n",
      " 24  REGION_RATING_CLIENT         307511 non-null  int64  \n",
      " 25  REGION_RATING_CLIENT_W_CITY  307511 non-null  int64  \n",
      " 26  WEEKDAY_APPR_PROCESS_START   307511 non-null  object \n",
      " 27  HOUR_APPR_PROCESS_START      307511 non-null  int64  \n",
      " 28  REG_REGION_NOT_LIVE_REGION   307511 non-null  int64  \n",
      " 29  REG_REGION_NOT_WORK_REGION   307511 non-null  int64  \n",
      " 30  LIVE_REGION_NOT_WORK_REGION  307511 non-null  int64  \n",
      " 31  REG_CITY_NOT_LIVE_CITY       307511 non-null  int64  \n",
      " 32  REG_CITY_NOT_WORK_CITY       307511 non-null  int64  \n",
      " 33  LIVE_CITY_NOT_WORK_CITY      307511 non-null  int64  \n",
      " 34  ORGANIZATION_TYPE            307511 non-null  object \n",
      " 35  FLAG_DOCUMENT_2              307511 non-null  int64  \n",
      " 36  FLAG_DOCUMENT_3              307511 non-null  int64  \n",
      " 37  FLAG_DOCUMENT_4              307511 non-null  int64  \n",
      " 38  FLAG_DOCUMENT_5              307511 non-null  int64  \n",
      " 39  FLAG_DOCUMENT_6              307511 non-null  int64  \n",
      " 40  FLAG_DOCUMENT_7              307511 non-null  int64  \n",
      " 41  FLAG_DOCUMENT_8              307511 non-null  int64  \n",
      " 42  FLAG_DOCUMENT_9              307511 non-null  int64  \n",
      " 43  FLAG_DOCUMENT_10             307511 non-null  int64  \n",
      " 44  FLAG_DOCUMENT_11             307511 non-null  int64  \n",
      " 45  FLAG_DOCUMENT_12             307511 non-null  int64  \n",
      " 46  FLAG_DOCUMENT_13             307511 non-null  int64  \n",
      " 47  FLAG_DOCUMENT_14             307511 non-null  int64  \n",
      " 48  FLAG_DOCUMENT_15             307511 non-null  int64  \n",
      " 49  FLAG_DOCUMENT_16             307511 non-null  int64  \n",
      " 50  FLAG_DOCUMENT_17             307511 non-null  int64  \n",
      " 51  FLAG_DOCUMENT_18             307511 non-null  int64  \n",
      " 52  FLAG_DOCUMENT_19             307511 non-null  int64  \n",
      " 53  FLAG_DOCUMENT_20             307511 non-null  int64  \n",
      " 54  FLAG_DOCUMENT_21             307511 non-null  int64  \n",
      "dtypes: float64(4), int64(41), object(10)\n",
      "memory usage: 129.0+ MB\n"
     ]
    }
   ],
   "source": [
    "df.info()"
   ]
  },
  {
   "cell_type": "code",
   "execution_count": 12,
   "id": "8e1f9d8b",
   "metadata": {},
   "outputs": [],
   "source": [
    "#sk_id_curr is not needed\n",
    "df.head()\n",
    "df = df.drop(\"SK_ID_CURR\",axis=1)"
   ]
  },
  {
   "cell_type": "code",
   "execution_count": 13,
   "id": "9ef65e67",
   "metadata": {},
   "outputs": [],
   "source": [
    "df[\"TARGET\"] = df[\"TARGET\"].astype(\"category\")"
   ]
  },
  {
   "cell_type": "code",
   "execution_count": 14,
   "id": "28f60e81",
   "metadata": {},
   "outputs": [
    {
     "data": {
      "text/plain": [
       "307511"
      ]
     },
     "execution_count": 14,
     "metadata": {},
     "output_type": "execute_result"
    }
   ],
   "source": [
    "target = df[\"TARGET\"]\n",
    "len(target)"
   ]
  },
  {
   "cell_type": "code",
   "execution_count": 15,
   "id": "d110bffc",
   "metadata": {},
   "outputs": [],
   "source": [
    "count0 = 0\n",
    "count1 = 1\n",
    "for i in range(len(target)):\n",
    "    if(target[i]==0):\n",
    "        count0=count0+1\n",
    "    else:\n",
    "        count1=count1+1"
   ]
  },
  {
   "cell_type": "code",
   "execution_count": 16,
   "id": "36b87839",
   "metadata": {},
   "outputs": [
    {
     "name": "stdout",
     "output_type": "stream",
     "text": [
      "24826\n",
      "282686\n"
     ]
    }
   ],
   "source": [
    "print(count1)\n",
    "print(count0)"
   ]
  },
  {
   "cell_type": "code",
   "execution_count": 17,
   "id": "0c84df37",
   "metadata": {},
   "outputs": [
    {
     "name": "stdout",
     "output_type": "stream",
     "text": [
      "8.073207137305657\n"
     ]
    }
   ],
   "source": [
    "#percentage of weather or not an applicant will be able to repay a loan using historical data.\n",
    "#that is percentage of default to payer of the dataset for the TARGET column\n",
    "per1 = count1/len(target)  *100\n",
    "print(per1)"
   ]
  },
  {
   "cell_type": "code",
   "execution_count": 18,
   "id": "4d9b7073",
   "metadata": {},
   "outputs": [
    {
     "name": "stdout",
     "output_type": "stream",
     "text": [
      "91.92711805431351\n"
     ]
    }
   ],
   "source": [
    "per0= count0/len(target)  *100\n",
    "print(per0)"
   ]
  },
  {
   "cell_type": "code",
   "execution_count": 19,
   "id": "8d0860ea",
   "metadata": {},
   "outputs": [],
   "source": [
    "#high class imbalance is observed in the dataset"
   ]
  },
  {
   "cell_type": "code",
   "execution_count": 20,
   "id": "268db3ee",
   "metadata": {},
   "outputs": [],
   "source": [
    "import seaborn as sns"
   ]
  },
  {
   "cell_type": "code",
   "execution_count": 21,
   "id": "c4811f41",
   "metadata": {},
   "outputs": [
    {
     "name": "stderr",
     "output_type": "stream",
     "text": [
      "/Applications/anaconda3/envs/tf/lib/python3.7/site-packages/seaborn/_decorators.py:43: FutureWarning: Pass the following variable as a keyword arg: x. From version 0.12, the only valid positional argument will be `data`, and passing other arguments without an explicit keyword will result in an error or misinterpretation.\n",
      "  FutureWarning\n"
     ]
    },
    {
     "data": {
      "text/plain": [
       "<AxesSubplot:xlabel='TARGET', ylabel='count'>"
      ]
     },
     "execution_count": 21,
     "metadata": {},
     "output_type": "execute_result"
    },
    {
     "data": {
      "image/png": "[encoded data removed]",
      "text/plain": [
       "<Figure size 432x288 with 1 Axes>"
      ]
     },
     "metadata": {
      "needs_background": "light"
     },
     "output_type": "display_data"
    }
   ],
   "source": [
    "sns.countplot(df[\"TARGET\"])"
   ]
  },
  {
   "cell_type": "code",
   "execution_count": 22,
   "id": "1d53eebd",
   "metadata": {},
   "outputs": [],
   "source": [
    "#dataset is highly imbalanced"
   ]
  },
  {
   "cell_type": "code",
   "execution_count": 23,
   "id": "0d451e78",
   "metadata": {
    "scrolled": true
   },
   "outputs": [],
   "source": [
    "df_num = df.select_dtypes(exclude= \"object\")\n",
    "df_num.head()\n",
    "df_num = df_num.drop(\"TARGET\",axis=1)"
   ]
  },
  {
   "cell_type": "code",
   "execution_count": 24,
   "id": "8136c176",
   "metadata": {
    "scrolled": true
   },
   "outputs": [
    {
     "data": {
      "text/html": [
       "<div>\n",
       "<style scoped>\n",
       "    .dataframe tbody tr th:only-of-type {\n",
       "        vertical-align: middle;\n",
       "    }\n",
       "\n",
       "    .dataframe tbody tr th {\n",
       "        vertical-align: top;\n",
       "    }\n",
       "\n",
       "    .dataframe thead th {\n",
       "        text-align: right;\n",
       "    }\n",
       "</style>\n",
       "<table border=\"1\" class=\"dataframe\">\n",
       "  <thead>\n",
       "    <tr style=\"text-align: right;\">\n",
       "      <th></th>\n",
       "      <th>CNT_CHILDREN</th>\n",
       "      <th>AMT_INCOME_TOTAL</th>\n",
       "      <th>AMT_CREDIT</th>\n",
       "      <th>REGION_POPULATION_RELATIVE</th>\n",
       "      <th>DAYS_BIRTH</th>\n",
       "      <th>DAYS_EMPLOYED</th>\n",
       "      <th>DAYS_REGISTRATION</th>\n",
       "      <th>DAYS_ID_PUBLISH</th>\n",
       "      <th>FLAG_MOBIL</th>\n",
       "      <th>FLAG_EMP_PHONE</th>\n",
       "      <th>...</th>\n",
       "      <th>FLAG_DOCUMENT_12</th>\n",
       "      <th>FLAG_DOCUMENT_13</th>\n",
       "      <th>FLAG_DOCUMENT_14</th>\n",
       "      <th>FLAG_DOCUMENT_15</th>\n",
       "      <th>FLAG_DOCUMENT_16</th>\n",
       "      <th>FLAG_DOCUMENT_17</th>\n",
       "      <th>FLAG_DOCUMENT_18</th>\n",
       "      <th>FLAG_DOCUMENT_19</th>\n",
       "      <th>FLAG_DOCUMENT_20</th>\n",
       "      <th>FLAG_DOCUMENT_21</th>\n",
       "    </tr>\n",
       "  </thead>\n",
       "  <tbody>\n",
       "    <tr>\n",
       "      <th>0</th>\n",
       "      <td>0.0</td>\n",
       "      <td>0.001512</td>\n",
       "      <td>0.090287</td>\n",
       "      <td>0.256321</td>\n",
       "      <td>0.888839</td>\n",
       "      <td>0.045086</td>\n",
       "      <td>0.852140</td>\n",
       "      <td>0.705433</td>\n",
       "      <td>1.0</td>\n",
       "      <td>1.0</td>\n",
       "      <td>...</td>\n",
       "      <td>0.0</td>\n",
       "      <td>0.0</td>\n",
       "      <td>0.0</td>\n",
       "      <td>0.0</td>\n",
       "      <td>0.0</td>\n",
       "      <td>0.0</td>\n",
       "      <td>0.0</td>\n",
       "      <td>0.0</td>\n",
       "      <td>0.0</td>\n",
       "      <td>0.0</td>\n",
       "    </tr>\n",
       "    <tr>\n",
       "      <th>1</th>\n",
       "      <td>0.0</td>\n",
       "      <td>0.002089</td>\n",
       "      <td>0.311736</td>\n",
       "      <td>0.045016</td>\n",
       "      <td>0.477114</td>\n",
       "      <td>0.043648</td>\n",
       "      <td>0.951929</td>\n",
       "      <td>0.959566</td>\n",
       "      <td>1.0</td>\n",
       "      <td>1.0</td>\n",
       "      <td>...</td>\n",
       "      <td>0.0</td>\n",
       "      <td>0.0</td>\n",
       "      <td>0.0</td>\n",
       "      <td>0.0</td>\n",
       "      <td>0.0</td>\n",
       "      <td>0.0</td>\n",
       "      <td>0.0</td>\n",
       "      <td>0.0</td>\n",
       "      <td>0.0</td>\n",
       "      <td>0.0</td>\n",
       "    </tr>\n",
       "    <tr>\n",
       "      <th>2</th>\n",
       "      <td>0.0</td>\n",
       "      <td>0.000358</td>\n",
       "      <td>0.022472</td>\n",
       "      <td>0.134897</td>\n",
       "      <td>0.348534</td>\n",
       "      <td>0.046161</td>\n",
       "      <td>0.827335</td>\n",
       "      <td>0.648326</td>\n",
       "      <td>1.0</td>\n",
       "      <td>1.0</td>\n",
       "      <td>...</td>\n",
       "      <td>0.0</td>\n",
       "      <td>0.0</td>\n",
       "      <td>0.0</td>\n",
       "      <td>0.0</td>\n",
       "      <td>0.0</td>\n",
       "      <td>0.0</td>\n",
       "      <td>0.0</td>\n",
       "      <td>0.0</td>\n",
       "      <td>0.0</td>\n",
       "      <td>0.0</td>\n",
       "    </tr>\n",
       "    <tr>\n",
       "      <th>3</th>\n",
       "      <td>0.0</td>\n",
       "      <td>0.000935</td>\n",
       "      <td>0.066837</td>\n",
       "      <td>0.107023</td>\n",
       "      <td>0.350846</td>\n",
       "      <td>0.038817</td>\n",
       "      <td>0.601451</td>\n",
       "      <td>0.661387</td>\n",
       "      <td>1.0</td>\n",
       "      <td>1.0</td>\n",
       "      <td>...</td>\n",
       "      <td>0.0</td>\n",
       "      <td>0.0</td>\n",
       "      <td>0.0</td>\n",
       "      <td>0.0</td>\n",
       "      <td>0.0</td>\n",
       "      <td>0.0</td>\n",
       "      <td>0.0</td>\n",
       "      <td>0.0</td>\n",
       "      <td>0.0</td>\n",
       "      <td>0.0</td>\n",
       "    </tr>\n",
       "    <tr>\n",
       "      <th>4</th>\n",
       "      <td>0.0</td>\n",
       "      <td>0.000819</td>\n",
       "      <td>0.116854</td>\n",
       "      <td>0.392880</td>\n",
       "      <td>0.298591</td>\n",
       "      <td>0.038820</td>\n",
       "      <td>0.825268</td>\n",
       "      <td>0.519522</td>\n",
       "      <td>1.0</td>\n",
       "      <td>1.0</td>\n",
       "      <td>...</td>\n",
       "      <td>0.0</td>\n",
       "      <td>0.0</td>\n",
       "      <td>0.0</td>\n",
       "      <td>0.0</td>\n",
       "      <td>0.0</td>\n",
       "      <td>0.0</td>\n",
       "      <td>0.0</td>\n",
       "      <td>0.0</td>\n",
       "      <td>0.0</td>\n",
       "      <td>0.0</td>\n",
       "    </tr>\n",
       "  </tbody>\n",
       "</table>\n",
       "<p>5 rows × 43 columns</p>\n",
       "</div>"
      ],
      "text/plain": [
       "   CNT_CHILDREN  AMT_INCOME_TOTAL  AMT_CREDIT  REGION_POPULATION_RELATIVE  \\\n",
       "0           0.0          0.001512    0.090287                    0.256321   \n",
       "1           0.0          0.002089    0.311736                    0.045016   \n",
       "2           0.0          0.000358    0.022472                    0.134897   \n",
       "3           0.0          0.000935    0.066837                    0.107023   \n",
       "4           0.0          0.000819    0.116854                    0.392880   \n",
       "\n",
       "   DAYS_BIRTH  DAYS_EMPLOYED  DAYS_REGISTRATION  DAYS_ID_PUBLISH  FLAG_MOBIL  \\\n",
       "0    0.888839       0.045086           0.852140         0.705433         1.0   \n",
       "1    0.477114       0.043648           0.951929         0.959566         1.0   \n",
       "2    0.348534       0.046161           0.827335         0.648326         1.0   \n",
       "3    0.350846       0.038817           0.601451         0.661387         1.0   \n",
       "4    0.298591       0.038820           0.825268         0.519522         1.0   \n",
       "\n",
       "   FLAG_EMP_PHONE  ...  FLAG_DOCUMENT_12  FLAG_DOCUMENT_13  FLAG_DOCUMENT_14  \\\n",
       "0             1.0  ...               0.0               0.0               0.0   \n",
       "1             1.0  ...               0.0               0.0               0.0   \n",
       "2             1.0  ...               0.0               0.0               0.0   \n",
       "3             1.0  ...               0.0               0.0               0.0   \n",
       "4             1.0  ...               0.0               0.0               0.0   \n",
       "\n",
       "   FLAG_DOCUMENT_15  FLAG_DOCUMENT_16  FLAG_DOCUMENT_17  FLAG_DOCUMENT_18  \\\n",
       "0               0.0               0.0               0.0               0.0   \n",
       "1               0.0               0.0               0.0               0.0   \n",
       "2               0.0               0.0               0.0               0.0   \n",
       "3               0.0               0.0               0.0               0.0   \n",
       "4               0.0               0.0               0.0               0.0   \n",
       "\n",
       "   FLAG_DOCUMENT_19  FLAG_DOCUMENT_20  FLAG_DOCUMENT_21  \n",
       "0               0.0               0.0               0.0  \n",
       "1               0.0               0.0               0.0  \n",
       "2               0.0               0.0               0.0  \n",
       "3               0.0               0.0               0.0  \n",
       "4               0.0               0.0               0.0  \n",
       "\n",
       "[5 rows x 43 columns]"
      ]
     },
     "execution_count": 24,
     "metadata": {},
     "output_type": "execute_result"
    }
   ],
   "source": [
    "from sklearn.preprocessing import MinMaxScaler\n",
    "sc = MinMaxScaler()\n",
    "df_sc = sc.fit_transform(df_num)\n",
    "df_num_sc = pd.DataFrame(df_sc,index=df_num.index,columns=df_num.columns)\n",
    "df_num_sc.head()"
   ]
  },
  {
   "cell_type": "code",
   "execution_count": 25,
   "id": "1095d239",
   "metadata": {},
   "outputs": [],
   "source": [
    "df_cat = df.select_dtypes(include= \"object\")"
   ]
  },
  {
   "cell_type": "code",
   "execution_count": 26,
   "id": "9c99d2d3",
   "metadata": {},
   "outputs": [],
   "source": [
    "cols = df_cat.columns"
   ]
  },
  {
   "cell_type": "code",
   "execution_count": 27,
   "id": "715e3916",
   "metadata": {},
   "outputs": [],
   "source": [
    "#from sklearn.preprocessing import LabelEncoder\n",
    "#lr = LabelEncoder()\n",
    "#for col in cols:\n",
    " #   df_cat[col]= lr.fit_transform(df_cat[col])\n"
   ]
  },
  {
   "cell_type": "code",
   "execution_count": 28,
   "id": "5a78caee",
   "metadata": {
    "scrolled": true
   },
   "outputs": [],
   "source": [
    "df_cat.head()\n",
    "df_cat = pd.get_dummies(df_cat)"
   ]
  },
  {
   "cell_type": "code",
   "execution_count": 29,
   "id": "55215eb7",
   "metadata": {
    "scrolled": true
   },
   "outputs": [
    {
     "data": {
      "text/html": [
       "<div>\n",
       "<style scoped>\n",
       "    .dataframe tbody tr th:only-of-type {\n",
       "        vertical-align: middle;\n",
       "    }\n",
       "\n",
       "    .dataframe tbody tr th {\n",
       "        vertical-align: top;\n",
       "    }\n",
       "\n",
       "    .dataframe thead th {\n",
       "        text-align: right;\n",
       "    }\n",
       "</style>\n",
       "<table border=\"1\" class=\"dataframe\">\n",
       "  <thead>\n",
       "    <tr style=\"text-align: right;\">\n",
       "      <th></th>\n",
       "      <th>NAME_CONTRACT_TYPE_Cash loans</th>\n",
       "      <th>NAME_CONTRACT_TYPE_Revolving loans</th>\n",
       "      <th>CODE_GENDER_F</th>\n",
       "      <th>CODE_GENDER_M</th>\n",
       "      <th>CODE_GENDER_XNA</th>\n",
       "      <th>FLAG_OWN_CAR_N</th>\n",
       "      <th>FLAG_OWN_CAR_Y</th>\n",
       "      <th>FLAG_OWN_REALTY_N</th>\n",
       "      <th>FLAG_OWN_REALTY_Y</th>\n",
       "      <th>NAME_INCOME_TYPE_Businessman</th>\n",
       "      <th>...</th>\n",
       "      <th>ORGANIZATION_TYPE_Trade: type 4</th>\n",
       "      <th>ORGANIZATION_TYPE_Trade: type 5</th>\n",
       "      <th>ORGANIZATION_TYPE_Trade: type 6</th>\n",
       "      <th>ORGANIZATION_TYPE_Trade: type 7</th>\n",
       "      <th>ORGANIZATION_TYPE_Transport: type 1</th>\n",
       "      <th>ORGANIZATION_TYPE_Transport: type 2</th>\n",
       "      <th>ORGANIZATION_TYPE_Transport: type 3</th>\n",
       "      <th>ORGANIZATION_TYPE_Transport: type 4</th>\n",
       "      <th>ORGANIZATION_TYPE_University</th>\n",
       "      <th>ORGANIZATION_TYPE_XNA</th>\n",
       "    </tr>\n",
       "  </thead>\n",
       "  <tbody>\n",
       "    <tr>\n",
       "      <th>0</th>\n",
       "      <td>1</td>\n",
       "      <td>0</td>\n",
       "      <td>0</td>\n",
       "      <td>1</td>\n",
       "      <td>0</td>\n",
       "      <td>1</td>\n",
       "      <td>0</td>\n",
       "      <td>0</td>\n",
       "      <td>1</td>\n",
       "      <td>0</td>\n",
       "      <td>...</td>\n",
       "      <td>0</td>\n",
       "      <td>0</td>\n",
       "      <td>0</td>\n",
       "      <td>0</td>\n",
       "      <td>0</td>\n",
       "      <td>0</td>\n",
       "      <td>0</td>\n",
       "      <td>0</td>\n",
       "      <td>0</td>\n",
       "      <td>0</td>\n",
       "    </tr>\n",
       "    <tr>\n",
       "      <th>1</th>\n",
       "      <td>1</td>\n",
       "      <td>0</td>\n",
       "      <td>1</td>\n",
       "      <td>0</td>\n",
       "      <td>0</td>\n",
       "      <td>1</td>\n",
       "      <td>0</td>\n",
       "      <td>1</td>\n",
       "      <td>0</td>\n",
       "      <td>0</td>\n",
       "      <td>...</td>\n",
       "      <td>0</td>\n",
       "      <td>0</td>\n",
       "      <td>0</td>\n",
       "      <td>0</td>\n",
       "      <td>0</td>\n",
       "      <td>0</td>\n",
       "      <td>0</td>\n",
       "      <td>0</td>\n",
       "      <td>0</td>\n",
       "      <td>0</td>\n",
       "    </tr>\n",
       "    <tr>\n",
       "      <th>2</th>\n",
       "      <td>0</td>\n",
       "      <td>1</td>\n",
       "      <td>0</td>\n",
       "      <td>1</td>\n",
       "      <td>0</td>\n",
       "      <td>0</td>\n",
       "      <td>1</td>\n",
       "      <td>0</td>\n",
       "      <td>1</td>\n",
       "      <td>0</td>\n",
       "      <td>...</td>\n",
       "      <td>0</td>\n",
       "      <td>0</td>\n",
       "      <td>0</td>\n",
       "      <td>0</td>\n",
       "      <td>0</td>\n",
       "      <td>0</td>\n",
       "      <td>0</td>\n",
       "      <td>0</td>\n",
       "      <td>0</td>\n",
       "      <td>0</td>\n",
       "    </tr>\n",
       "    <tr>\n",
       "      <th>3</th>\n",
       "      <td>1</td>\n",
       "      <td>0</td>\n",
       "      <td>1</td>\n",
       "      <td>0</td>\n",
       "      <td>0</td>\n",
       "      <td>1</td>\n",
       "      <td>0</td>\n",
       "      <td>0</td>\n",
       "      <td>1</td>\n",
       "      <td>0</td>\n",
       "      <td>...</td>\n",
       "      <td>0</td>\n",
       "      <td>0</td>\n",
       "      <td>0</td>\n",
       "      <td>0</td>\n",
       "      <td>0</td>\n",
       "      <td>0</td>\n",
       "      <td>0</td>\n",
       "      <td>0</td>\n",
       "      <td>0</td>\n",
       "      <td>0</td>\n",
       "    </tr>\n",
       "    <tr>\n",
       "      <th>4</th>\n",
       "      <td>1</td>\n",
       "      <td>0</td>\n",
       "      <td>0</td>\n",
       "      <td>1</td>\n",
       "      <td>0</td>\n",
       "      <td>1</td>\n",
       "      <td>0</td>\n",
       "      <td>0</td>\n",
       "      <td>1</td>\n",
       "      <td>0</td>\n",
       "      <td>...</td>\n",
       "      <td>0</td>\n",
       "      <td>0</td>\n",
       "      <td>0</td>\n",
       "      <td>0</td>\n",
       "      <td>0</td>\n",
       "      <td>0</td>\n",
       "      <td>0</td>\n",
       "      <td>0</td>\n",
       "      <td>0</td>\n",
       "      <td>0</td>\n",
       "    </tr>\n",
       "  </tbody>\n",
       "</table>\n",
       "<p>5 rows × 99 columns</p>\n",
       "</div>"
      ],
      "text/plain": [
       "   NAME_CONTRACT_TYPE_Cash loans  NAME_CONTRACT_TYPE_Revolving loans  \\\n",
       "0                              1                                   0   \n",
       "1                              1                                   0   \n",
       "2                              0                                   1   \n",
       "3                              1                                   0   \n",
       "4                              1                                   0   \n",
       "\n",
       "   CODE_GENDER_F  CODE_GENDER_M  CODE_GENDER_XNA  FLAG_OWN_CAR_N  \\\n",
       "0              0              1                0               1   \n",
       "1              1              0                0               1   \n",
       "2              0              1                0               0   \n",
       "3              1              0                0               1   \n",
       "4              0              1                0               1   \n",
       "\n",
       "   FLAG_OWN_CAR_Y  FLAG_OWN_REALTY_N  FLAG_OWN_REALTY_Y  \\\n",
       "0               0                  0                  1   \n",
       "1               0                  1                  0   \n",
       "2               1                  0                  1   \n",
       "3               0                  0                  1   \n",
       "4               0                  0                  1   \n",
       "\n",
       "   NAME_INCOME_TYPE_Businessman  ...  ORGANIZATION_TYPE_Trade: type 4  \\\n",
       "0                             0  ...                                0   \n",
       "1                             0  ...                                0   \n",
       "2                             0  ...                                0   \n",
       "3                             0  ...                                0   \n",
       "4                             0  ...                                0   \n",
       "\n",
       "   ORGANIZATION_TYPE_Trade: type 5  ORGANIZATION_TYPE_Trade: type 6  \\\n",
       "0                                0                                0   \n",
       "1                                0                                0   \n",
       "2                                0                                0   \n",
       "3                                0                                0   \n",
       "4                                0                                0   \n",
       "\n",
       "   ORGANIZATION_TYPE_Trade: type 7  ORGANIZATION_TYPE_Transport: type 1  \\\n",
       "0                                0                                    0   \n",
       "1                                0                                    0   \n",
       "2                                0                                    0   \n",
       "3                                0                                    0   \n",
       "4                                0                                    0   \n",
       "\n",
       "   ORGANIZATION_TYPE_Transport: type 2  ORGANIZATION_TYPE_Transport: type 3  \\\n",
       "0                                    0                                    0   \n",
       "1                                    0                                    0   \n",
       "2                                    0                                    0   \n",
       "3                                    0                                    0   \n",
       "4                                    0                                    0   \n",
       "\n",
       "   ORGANIZATION_TYPE_Transport: type 4  ORGANIZATION_TYPE_University  \\\n",
       "0                                    0                             0   \n",
       "1                                    0                             0   \n",
       "2                                    0                             0   \n",
       "3                                    0                             0   \n",
       "4                                    0                             0   \n",
       "\n",
       "   ORGANIZATION_TYPE_XNA  \n",
       "0                      0  \n",
       "1                      0  \n",
       "2                      0  \n",
       "3                      0  \n",
       "4                      0  \n",
       "\n",
       "[5 rows x 99 columns]"
      ]
     },
     "execution_count": 29,
     "metadata": {},
     "output_type": "execute_result"
    }
   ],
   "source": [
    "df_cat.head()"
   ]
  },
  {
   "cell_type": "code",
   "execution_count": 30,
   "id": "a8c5242b",
   "metadata": {},
   "outputs": [
    {
     "name": "stdout",
     "output_type": "stream",
     "text": [
      "<class 'pandas.core.frame.DataFrame'>\n",
      "RangeIndex: 307511 entries, 0 to 307510\n",
      "Data columns (total 99 columns):\n",
      " #   Column                                             Non-Null Count   Dtype\n",
      "---  ------                                             --------------   -----\n",
      " 0   NAME_CONTRACT_TYPE_Cash loans                      307511 non-null  uint8\n",
      " 1   NAME_CONTRACT_TYPE_Revolving loans                 307511 non-null  uint8\n",
      " 2   CODE_GENDER_F                                      307511 non-null  uint8\n",
      " 3   CODE_GENDER_M                                      307511 non-null  uint8\n",
      " 4   CODE_GENDER_XNA                                    307511 non-null  uint8\n",
      " 5   FLAG_OWN_CAR_N                                     307511 non-null  uint8\n",
      " 6   FLAG_OWN_CAR_Y                                     307511 non-null  uint8\n",
      " 7   FLAG_OWN_REALTY_N                                  307511 non-null  uint8\n",
      " 8   FLAG_OWN_REALTY_Y                                  307511 non-null  uint8\n",
      " 9   NAME_INCOME_TYPE_Businessman                       307511 non-null  uint8\n",
      " 10  NAME_INCOME_TYPE_Commercial associate              307511 non-null  uint8\n",
      " 11  NAME_INCOME_TYPE_Maternity leave                   307511 non-null  uint8\n",
      " 12  NAME_INCOME_TYPE_Pensioner                         307511 non-null  uint8\n",
      " 13  NAME_INCOME_TYPE_State servant                     307511 non-null  uint8\n",
      " 14  NAME_INCOME_TYPE_Student                           307511 non-null  uint8\n",
      " 15  NAME_INCOME_TYPE_Unemployed                        307511 non-null  uint8\n",
      " 16  NAME_INCOME_TYPE_Working                           307511 non-null  uint8\n",
      " 17  NAME_EDUCATION_TYPE_Academic degree                307511 non-null  uint8\n",
      " 18  NAME_EDUCATION_TYPE_Higher education               307511 non-null  uint8\n",
      " 19  NAME_EDUCATION_TYPE_Incomplete higher              307511 non-null  uint8\n",
      " 20  NAME_EDUCATION_TYPE_Lower secondary                307511 non-null  uint8\n",
      " 21  NAME_EDUCATION_TYPE_Secondary / secondary special  307511 non-null  uint8\n",
      " 22  NAME_FAMILY_STATUS_Civil marriage                  307511 non-null  uint8\n",
      " 23  NAME_FAMILY_STATUS_Married                         307511 non-null  uint8\n",
      " 24  NAME_FAMILY_STATUS_Separated                       307511 non-null  uint8\n",
      " 25  NAME_FAMILY_STATUS_Single / not married            307511 non-null  uint8\n",
      " 26  NAME_FAMILY_STATUS_Unknown                         307511 non-null  uint8\n",
      " 27  NAME_FAMILY_STATUS_Widow                           307511 non-null  uint8\n",
      " 28  NAME_HOUSING_TYPE_Co-op apartment                  307511 non-null  uint8\n",
      " 29  NAME_HOUSING_TYPE_House / apartment                307511 non-null  uint8\n",
      " 30  NAME_HOUSING_TYPE_Municipal apartment              307511 non-null  uint8\n",
      " 31  NAME_HOUSING_TYPE_Office apartment                 307511 non-null  uint8\n",
      " 32  NAME_HOUSING_TYPE_Rented apartment                 307511 non-null  uint8\n",
      " 33  NAME_HOUSING_TYPE_With parents                     307511 non-null  uint8\n",
      " 34  WEEKDAY_APPR_PROCESS_START_FRIDAY                  307511 non-null  uint8\n",
      " 35  WEEKDAY_APPR_PROCESS_START_MONDAY                  307511 non-null  uint8\n",
      " 36  WEEKDAY_APPR_PROCESS_START_SATURDAY                307511 non-null  uint8\n",
      " 37  WEEKDAY_APPR_PROCESS_START_SUNDAY                  307511 non-null  uint8\n",
      " 38  WEEKDAY_APPR_PROCESS_START_THURSDAY                307511 non-null  uint8\n",
      " 39  WEEKDAY_APPR_PROCESS_START_TUESDAY                 307511 non-null  uint8\n",
      " 40  WEEKDAY_APPR_PROCESS_START_WEDNESDAY               307511 non-null  uint8\n",
      " 41  ORGANIZATION_TYPE_Advertising                      307511 non-null  uint8\n",
      " 42  ORGANIZATION_TYPE_Agriculture                      307511 non-null  uint8\n",
      " 43  ORGANIZATION_TYPE_Bank                             307511 non-null  uint8\n",
      " 44  ORGANIZATION_TYPE_Business Entity Type 1           307511 non-null  uint8\n",
      " 45  ORGANIZATION_TYPE_Business Entity Type 2           307511 non-null  uint8\n",
      " 46  ORGANIZATION_TYPE_Business Entity Type 3           307511 non-null  uint8\n",
      " 47  ORGANIZATION_TYPE_Cleaning                         307511 non-null  uint8\n",
      " 48  ORGANIZATION_TYPE_Construction                     307511 non-null  uint8\n",
      " 49  ORGANIZATION_TYPE_Culture                          307511 non-null  uint8\n",
      " 50  ORGANIZATION_TYPE_Electricity                      307511 non-null  uint8\n",
      " 51  ORGANIZATION_TYPE_Emergency                        307511 non-null  uint8\n",
      " 52  ORGANIZATION_TYPE_Government                       307511 non-null  uint8\n",
      " 53  ORGANIZATION_TYPE_Hotel                            307511 non-null  uint8\n",
      " 54  ORGANIZATION_TYPE_Housing                          307511 non-null  uint8\n",
      " 55  ORGANIZATION_TYPE_Industry: type 1                 307511 non-null  uint8\n",
      " 56  ORGANIZATION_TYPE_Industry: type 10                307511 non-null  uint8\n",
      " 57  ORGANIZATION_TYPE_Industry: type 11                307511 non-null  uint8\n",
      " 58  ORGANIZATION_TYPE_Industry: type 12                307511 non-null  uint8\n",
      " 59  ORGANIZATION_TYPE_Industry: type 13                307511 non-null  uint8\n",
      " 60  ORGANIZATION_TYPE_Industry: type 2                 307511 non-null  uint8\n",
      " 61  ORGANIZATION_TYPE_Industry: type 3                 307511 non-null  uint8\n",
      " 62  ORGANIZATION_TYPE_Industry: type 4                 307511 non-null  uint8\n",
      " 63  ORGANIZATION_TYPE_Industry: type 5                 307511 non-null  uint8\n",
      " 64  ORGANIZATION_TYPE_Industry: type 6                 307511 non-null  uint8\n",
      " 65  ORGANIZATION_TYPE_Industry: type 7                 307511 non-null  uint8\n",
      " 66  ORGANIZATION_TYPE_Industry: type 8                 307511 non-null  uint8\n",
      " 67  ORGANIZATION_TYPE_Industry: type 9                 307511 non-null  uint8\n",
      " 68  ORGANIZATION_TYPE_Insurance                        307511 non-null  uint8\n",
      " 69  ORGANIZATION_TYPE_Kindergarten                     307511 non-null  uint8\n",
      " 70  ORGANIZATION_TYPE_Legal Services                   307511 non-null  uint8\n",
      " 71  ORGANIZATION_TYPE_Medicine                         307511 non-null  uint8\n",
      " 72  ORGANIZATION_TYPE_Military                         307511 non-null  uint8\n",
      " 73  ORGANIZATION_TYPE_Mobile                           307511 non-null  uint8\n",
      " 74  ORGANIZATION_TYPE_Other                            307511 non-null  uint8\n",
      " 75  ORGANIZATION_TYPE_Police                           307511 non-null  uint8\n",
      " 76  ORGANIZATION_TYPE_Postal                           307511 non-null  uint8\n",
      " 77  ORGANIZATION_TYPE_Realtor                          307511 non-null  uint8\n",
      " 78  ORGANIZATION_TYPE_Religion                         307511 non-null  uint8\n",
      " 79  ORGANIZATION_TYPE_Restaurant                       307511 non-null  uint8\n",
      " 80  ORGANIZATION_TYPE_School                           307511 non-null  uint8\n",
      " 81  ORGANIZATION_TYPE_Security                         307511 non-null  uint8\n",
      " 82  ORGANIZATION_TYPE_Security Ministries              307511 non-null  uint8\n",
      " 83  ORGANIZATION_TYPE_Self-employed                    307511 non-null  uint8\n",
      " 84  ORGANIZATION_TYPE_Services                         307511 non-null  uint8\n",
      " 85  ORGANIZATION_TYPE_Telecom                          307511 non-null  uint8\n",
      " 86  ORGANIZATION_TYPE_Trade: type 1                    307511 non-null  uint8\n",
      " 87  ORGANIZATION_TYPE_Trade: type 2                    307511 non-null  uint8\n",
      " 88  ORGANIZATION_TYPE_Trade: type 3                    307511 non-null  uint8\n",
      " 89  ORGANIZATION_TYPE_Trade: type 4                    307511 non-null  uint8\n",
      " 90  ORGANIZATION_TYPE_Trade: type 5                    307511 non-null  uint8\n",
      " 91  ORGANIZATION_TYPE_Trade: type 6                    307511 non-null  uint8\n",
      " 92  ORGANIZATION_TYPE_Trade: type 7                    307511 non-null  uint8\n",
      " 93  ORGANIZATION_TYPE_Transport: type 1                307511 non-null  uint8\n",
      " 94  ORGANIZATION_TYPE_Transport: type 2                307511 non-null  uint8\n",
      " 95  ORGANIZATION_TYPE_Transport: type 3                307511 non-null  uint8\n",
      " 96  ORGANIZATION_TYPE_Transport: type 4                307511 non-null  uint8\n",
      " 97  ORGANIZATION_TYPE_University                       307511 non-null  uint8\n",
      " 98  ORGANIZATION_TYPE_XNA                              307511 non-null  uint8\n",
      "dtypes: uint8(99)\n",
      "memory usage: 29.0 MB\n"
     ]
    }
   ],
   "source": [
    "df_cat.info()"
   ]
  },
  {
   "cell_type": "code",
   "execution_count": null,
   "id": "834dbb77",
   "metadata": {},
   "outputs": [],
   "source": []
  },
  {
   "cell_type": "code",
   "execution_count": 31,
   "id": "0cd86c15",
   "metadata": {},
   "outputs": [],
   "source": [
    "df_final = pd.concat([df_num_sc,df_cat,df[\"TARGET\"]],axis=1)"
   ]
  },
  {
   "cell_type": "code",
   "execution_count": 32,
   "id": "a4f401e9",
   "metadata": {},
   "outputs": [],
   "source": [
    "#spliting the dependent and in indepnedent variables\n",
    "x = df_final.drop(\"TARGET\",axis=1)\n",
    "y= df_final[\"TARGET\"]"
   ]
  },
  {
   "cell_type": "code",
   "execution_count": 33,
   "id": "99c3485b",
   "metadata": {},
   "outputs": [],
   "source": [
    "from sklearn.model_selection import train_test_split"
   ]
  },
  {
   "cell_type": "code",
   "execution_count": 34,
   "id": "7ee4cfc0",
   "metadata": {},
   "outputs": [],
   "source": [
    "x_train,x_test,y_train,y_test = train_test_split(x,y,test_size = 0.3 , random_state=67)"
   ]
  },
  {
   "cell_type": "code",
   "execution_count": 35,
   "id": "322664e1",
   "metadata": {},
   "outputs": [
    {
     "data": {
      "text/plain": [
       "(215257, 142)"
      ]
     },
     "execution_count": 35,
     "metadata": {},
     "output_type": "execute_result"
    }
   ],
   "source": [
    "x_train.shape"
   ]
  },
  {
   "cell_type": "code",
   "execution_count": 36,
   "id": "2adccc93",
   "metadata": {},
   "outputs": [
    {
     "data": {
      "text/plain": [
       "(92254, 142)"
      ]
     },
     "execution_count": 36,
     "metadata": {},
     "output_type": "execute_result"
    }
   ],
   "source": [
    "x_test.shape"
   ]
  },
  {
   "cell_type": "code",
   "execution_count": 37,
   "id": "49ee1195",
   "metadata": {},
   "outputs": [
    {
     "data": {
      "text/plain": [
       "(215257,)"
      ]
     },
     "execution_count": 37,
     "metadata": {},
     "output_type": "execute_result"
    }
   ],
   "source": [
    "y_train.shape"
   ]
  },
  {
   "cell_type": "code",
   "execution_count": 38,
   "id": "6b23ccbf",
   "metadata": {},
   "outputs": [
    {
     "data": {
      "text/plain": [
       "(92254,)"
      ]
     },
     "execution_count": 38,
     "metadata": {},
     "output_type": "execute_result"
    }
   ],
   "source": [
    "y_test.shape"
   ]
  },
  {
   "cell_type": "code",
   "execution_count": 39,
   "id": "d469a153",
   "metadata": {},
   "outputs": [],
   "source": [
    "#x_train = np.array(x_train)\n",
    "#x_test = np.array(x_test)"
   ]
  },
  {
   "cell_type": "code",
   "execution_count": 40,
   "id": "0a206a9e",
   "metadata": {},
   "outputs": [],
   "source": [
    "y_train1 = keras.utils.to_categorical(y_train, 2)\n",
    "y_test1 = keras.utils.to_categorical(y_test, 2)\n"
   ]
  },
  {
   "cell_type": "code",
   "execution_count": 41,
   "id": "f0b2691e",
   "metadata": {},
   "outputs": [
    {
     "name": "stdout",
     "output_type": "stream",
     "text": [
      "Model: \"sequential_1\"\n",
      "_________________________________________________________________\n",
      "Layer (type)                 Output Shape              Param #   \n",
      "=================================================================\n",
      "dense_1 (Dense)              (None, 512)               73216     \n",
      "_________________________________________________________________\n",
      "dropout_1 (Dropout)          (None, 512)               0         \n",
      "_________________________________________________________________\n",
      "dense_2 (Dense)              (None, 256)               131328    \n",
      "_________________________________________________________________\n",
      "dropout_2 (Dropout)          (None, 256)               0         \n",
      "_________________________________________________________________\n",
      "dense_3 (Dense)              (None, 128)               32896     \n",
      "_________________________________________________________________\n",
      "dropout_3 (Dropout)          (None, 128)               0         \n",
      "_________________________________________________________________\n",
      "dense_4 (Dense)              (None, 64)                8256      \n",
      "_________________________________________________________________\n",
      "dropout_4 (Dropout)          (None, 64)                0         \n",
      "_________________________________________________________________\n",
      "dense_5 (Dense)              (None, 28)                1820      \n",
      "_________________________________________________________________\n",
      "dropout_5 (Dropout)          (None, 28)                0         \n",
      "_________________________________________________________________\n",
      "dense_6 (Dense)              (None, 16)                464       \n",
      "_________________________________________________________________\n",
      "dropout_6 (Dropout)          (None, 16)                0         \n",
      "_________________________________________________________________\n",
      "dense_7 (Dense)              (None, 8)                 136       \n",
      "_________________________________________________________________\n",
      "dropout_7 (Dropout)          (None, 8)                 0         \n",
      "_________________________________________________________________\n",
      "dense_8 (Dense)              (None, 4)                 36        \n",
      "_________________________________________________________________\n",
      "dropout_8 (Dropout)          (None, 4)                 0         \n",
      "_________________________________________________________________\n",
      "dense_9 (Dense)              (None, 2)                 10        \n",
      "=================================================================\n",
      "Total params: 248,162\n",
      "Trainable params: 248,162\n",
      "Non-trainable params: 0\n",
      "_________________________________________________________________\n"
     ]
    }
   ],
   "source": [
    "## deep nn\n",
    "model = Sequential()\n",
    "model.add(Dense(512,activation = 'relu',input_dim=142))\n",
    "model.add(Dropout(0.2))\n",
    "model.add(Dense(256,activation='relu'))\n",
    "model.add(Dropout(0.2))\n",
    "model.add(Dense(128,activation='relu'))\n",
    "model.add(Dropout(0.4))\n",
    "model.add(Dense(64,activation='relu'))\n",
    "model.add(Dropout(0.4))\n",
    "model.add(Dense(28,activation='relu'))\n",
    "model.add(Dropout(0.2))\n",
    "model.add(Dense(16,activation='relu'))\n",
    "model.add(Dropout(0.2))\n",
    "model.add(Dense(8,activation='relu'))\n",
    "model.add(Dropout(0.2))\n",
    "model.add(Dense(4,activation='relu'))\n",
    "model.add(Dropout(0.2))\n",
    "model.add(Dense(2,activation='sigmoid'))\n",
    "\n",
    "\n",
    "\n",
    "model.summary()"
   ]
  },
  {
   "cell_type": "code",
   "execution_count": 42,
   "id": "e745f263",
   "metadata": {},
   "outputs": [],
   "source": [
    "#compile the model\n",
    "model.compile(loss='binary_crossentropy',\n",
    "              optimizer='adaDelta',\n",
    "              metrics=['accuracy'])"
   ]
  },
  {
   "cell_type": "code",
   "execution_count": 44,
   "id": "e59e94e8",
   "metadata": {
    "scrolled": true
   },
   "outputs": [
    {
     "name": "stdout",
     "output_type": "stream",
     "text": [
      "Train on 215257 samples, validate on 92254 samples\n",
      "Epoch 1/10\n",
      "215257/215257 [==============================] - 8s 35us/step - loss: 0.2885 - accuracy: 0.9192 - val_loss: 0.2705 - val_accuracy: 0.9195\n",
      "Epoch 2/10\n",
      "215257/215257 [==============================] - 8s 38us/step - loss: 0.2848 - accuracy: 0.9191 - val_loss: 0.2702 - val_accuracy: 0.9195\n",
      "Epoch 3/10\n",
      "215257/215257 [==============================] - 8s 38us/step - loss: 0.2817 - accuracy: 0.9192 - val_loss: 0.2707 - val_accuracy: 0.9195\n",
      "Epoch 4/10\n",
      "215257/215257 [==============================] - 8s 38us/step - loss: 0.2793 - accuracy: 0.9192 - val_loss: 0.2698 - val_accuracy: 0.9195\n",
      "Epoch 5/10\n",
      "215257/215257 [==============================] - 8s 38us/step - loss: 0.2776 - accuracy: 0.9192 - val_loss: 0.2699 - val_accuracy: 0.9195\n",
      "Epoch 6/10\n",
      "215257/215257 [==============================] - 8s 38us/step - loss: 0.2763 - accuracy: 0.9192 - val_loss: 0.2698 - val_accuracy: 0.9195\n",
      "Epoch 7/10\n",
      "215257/215257 [==============================] - 8s 39us/step - loss: 0.2759 - accuracy: 0.9192 - val_loss: 0.2701 - val_accuracy: 0.9195\n",
      "Epoch 8/10\n",
      "215257/215257 [==============================] - 8s 39us/step - loss: 0.2745 - accuracy: 0.9192 - val_loss: 0.2704 - val_accuracy: 0.9195\n",
      "Epoch 9/10\n",
      "215257/215257 [==============================] - 8s 39us/step - loss: 0.2747 - accuracy: 0.9192 - val_loss: 0.2704 - val_accuracy: 0.9195\n",
      "Epoch 10/10\n",
      "215257/215257 [==============================] - 8s 39us/step - loss: 0.2738 - accuracy: 0.9191 - val_loss: 0.2694 - val_accuracy: 0.9195\n"
     ]
    }
   ],
   "source": [
    "history = model.fit(x_train, y_train1,batch_size=2000,\n",
    "                    epochs=10,\n",
    "                    verbose=1,\n",
    "                   validation_data=(x_test, y_test1))\n",
    "score = model.evaluate(x_test, y_test1, verbose=0)"
   ]
  },
  {
   "cell_type": "code",
   "execution_count": 45,
   "id": "c0bf4a0a",
   "metadata": {},
   "outputs": [
    {
     "name": "stdout",
     "output_type": "stream",
     "text": [
      "Test loss: 0.2693857206576619\n",
      "Test accuracy: 0.919537365436554\n"
     ]
    }
   ],
   "source": [
    "print('Test loss:', score[0])\n",
    "print('Test accuracy:', score[1])"
   ]
  },
  {
   "cell_type": "code",
   "execution_count": 46,
   "id": "7b475092",
   "metadata": {},
   "outputs": [
    {
     "data": {
      "image/png": "[encoded data removed]",
      "text/plain": [
       "<Figure size 432x288 with 1 Axes>"
      ]
     },
     "metadata": {
      "needs_background": "light"
     },
     "output_type": "display_data"
    }
   ],
   "source": [
    "#plot accuracy epochs\n",
    "pyplot.plot(history.history['accuracy'], label='train')\n",
    "pyplot.plot(history.history['val_accuracy'], label='test')\n",
    "pyplot.legend()\n",
    "pyplot.show()\n",
    "\n"
   ]
  },
  {
   "cell_type": "code",
   "execution_count": 47,
   "id": "075b97a2",
   "metadata": {},
   "outputs": [],
   "source": [
    "#accuracy of model is 91.95 for test data and train data has been imporivng by every epoch"
   ]
  },
  {
   "cell_type": "code",
   "execution_count": 48,
   "id": "4cb95ba7",
   "metadata": {},
   "outputs": [],
   "source": [
    "lr_probs = model.predict(x_test)"
   ]
  },
  {
   "cell_type": "code",
   "execution_count": 54,
   "id": "0928b94b",
   "metadata": {},
   "outputs": [],
   "source": [
    "from sklearn.metrics import RocCurveDisplay,plot_roc_curve,plot_precision_recall_curve,roc_auc_score,roc_curve"
   ]
  },
  {
   "cell_type": "code",
   "execution_count": 50,
   "id": "8375cc58",
   "metadata": {},
   "outputs": [],
   "source": [
    "ns_probs = [0 for _ in range(len(y_test))]"
   ]
  },
  {
   "cell_type": "code",
   "execution_count": 51,
   "id": "9164eda6",
   "metadata": {},
   "outputs": [],
   "source": [
    "lr_probs = lr_probs[:, 1]"
   ]
  },
  {
   "cell_type": "code",
   "execution_count": 58,
   "id": "4cfdbe7f",
   "metadata": {},
   "outputs": [
    {
     "data": {
      "image/png": "[encoded data removed]",
      "text/plain": [
       "<Figure size 432x288 with 1 Axes>"
      ]
     },
     "metadata": {
      "needs_background": "light"
     },
     "output_type": "display_data"
    }
   ],
   "source": [
    "ns_auc = roc_auc_score(y_test, ns_probs)\n",
    "lr_auc = roc_auc_score(y_test, lr_probs)\n",
    "\n",
    "#calculate roc curves\n",
    "ns_fpr, ns_tpr, _ = roc_curve(y_test, ns_probs)\n",
    "lr_fpr, lr_tpr, _ = roc_curve(y_test, lr_probs)\n",
    "# plot the roc curve for the model\n",
    "pyplot.plot(ns_fpr, ns_tpr, linestyle='--', label='0')\n",
    "pyplot.plot(lr_fpr, lr_tpr, marker='.', label='1')\n",
    "# axis labels\n",
    "pyplot.xlabel('False Positive Rate')\n",
    "pyplot.ylabel('True Positive Rate')\n",
    "# show the legend\n",
    "pyplot.legend()\n",
    "# show the plot\n",
    "pyplot.show()"
   ]
  },
  {
   "cell_type": "code",
   "execution_count": 59,
   "id": "bed1e811",
   "metadata": {},
   "outputs": [
    {
     "name": "stdout",
     "output_type": "stream",
     "text": [
      "0: ROC AUC=0.500\n",
      "1: ROC AUC=0.658\n"
     ]
    }
   ],
   "source": [
    "#auc\n",
    "print('0: ROC AUC=%.3f' % (ns_auc))\n",
    "print('1: ROC AUC=%.3f' % (lr_auc))"
   ]
  },
  {
   "cell_type": "code",
   "execution_count": null,
   "id": "33f73c5f",
   "metadata": {},
   "outputs": [],
   "source": []
  },
  {
   "cell_type": "code",
   "execution_count": null,
   "id": "889025b6",
   "metadata": {},
   "outputs": [],
   "source": []
  },
  {
   "cell_type": "code",
   "execution_count": null,
   "id": "8c05b0d3",
   "metadata": {},
   "outputs": [],
   "source": []
  },
  {
   "cell_type": "code",
   "execution_count": null,
   "id": "0e8acb26",
   "metadata": {},
   "outputs": [],
   "source": []
  }
 ],
 "metadata": {
  "kernelspec": {
   "display_name": "Python 3",
   "language": "python",
   "name": "python3"
  },
  "language_info": {
   "codemirror_mode": {
    "name": "ipython",
    "version": 3
   },
   "file_extension": ".py",
   "mimetype": "text/x-python",
   "name": "python",
   "nbconvert_exporter": "python",
   "pygments_lexer": "ipython3",
   "version": "3.8.8"
  }
 },
 "nbformat": 4,
 "nbformat_minor": 5
}
